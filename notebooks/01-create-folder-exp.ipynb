{
 "cells": [
  {
   "cell_type": "code",
   "execution_count": 6,
   "metadata": {},
   "outputs": [],
   "source": [
    "import os\n",
    "from pathlib import Path\n",
    "\n",
    "files = ['f1/f1.py', 'f2/f2.py']\n",
    "\n",
    "for file in files:\n",
    "    file = Path(file)\n",
    "    filedir, filename = os.path.split(file)\n",
    "\n",
    "    if filedir!='':\n",
    "        os.makedirs(filedir, exist_ok=True)\n",
    "\n",
    "    if (not os.path.exists(file)) or (os.path.getsize(file)==0):\n",
    "        with open(file, 'w') as f:\n",
    "            pass\n",
    "    else:\n",
    "        print(f'file already exists:{file}')"
   ]
  },
  {
   "cell_type": "code",
   "execution_count": null,
   "metadata": {},
   "outputs": [],
   "source": []
  }
 ],
 "metadata": {
  "kernelspec": {
   "display_name": "venv_mlops",
   "language": "python",
   "name": "python3"
  },
  "language_info": {
   "codemirror_mode": {
    "name": "ipython",
    "version": 3
   },
   "file_extension": ".py",
   "mimetype": "text/x-python",
   "name": "python",
   "nbconvert_exporter": "python",
   "pygments_lexer": "ipython3",
   "version": "3.12.5"
  }
 },
 "nbformat": 4,
 "nbformat_minor": 2
}
