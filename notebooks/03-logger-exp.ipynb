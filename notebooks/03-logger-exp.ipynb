{
 "cells": [
  {
   "cell_type": "code",
   "execution_count": 2,
   "metadata": {},
   "outputs": [
    {
     "name": "stdout",
     "output_type": "stream",
     "text": [
      "08_11_2024_11_12_46.log\n"
     ]
    }
   ],
   "source": [
    "import logging\n",
    "import os\n",
    "from from_root import from_root\n",
    "from datetime import datetime\n",
    "\n",
    "print(f\"{datetime.now().strftime('%m_%d_%Y_%H_%M_%S')}.log\")"
   ]
  },
  {
   "cell_type": "code",
   "execution_count": 5,
   "metadata": {},
   "outputs": [
    {
     "name": "stdout",
     "output_type": "stream",
     "text": [
      "/Users/premkumar/my_pc/programming/code_git/mlops/us-visa-project/notebooks\n"
     ]
    }
   ],
   "source": [
    "!pwd"
   ]
  },
  {
   "cell_type": "code",
   "execution_count": 8,
   "metadata": {},
   "outputs": [
    {
     "name": "stdout",
     "output_type": "stream",
     "text": [
      "/Users/premkumar/my_pc/programming/code_git/mlops/us-visa-project/logs/08_11_2024_11_20_41.log\n"
     ]
    }
   ],
   "source": [
    "base_path = '/Users/premkumar/my_pc/programming/code_git/mlops/us-visa-project/'\n",
    "log_dir = os.path.join(base_path, 'logs')\n",
    "log_file_name = f\"{datetime.now().strftime('%m_%d_%Y_%H_%M_%S')}.log\"\n",
    "logs_full_path = os.path.join(log_dir, log_file_name)\n",
    "\n",
    "print(logs_full_path)"
   ]
  },
  {
   "cell_type": "code",
   "execution_count": 9,
   "metadata": {},
   "outputs": [],
   "source": [
    "os.makedirs(log_dir, exist_ok=True)"
   ]
  },
  {
   "cell_type": "code",
   "execution_count": 10,
   "metadata": {},
   "outputs": [],
   "source": [
    "logging.basicConfig(filename=logs_full_path, \n",
    "                    format=\"[ %(asctime)s ] %(name)s - %(levelname)s - %(message)s\",\n",
    "                    level=logging.DEBUG)"
   ]
  },
  {
   "cell_type": "code",
   "execution_count": 11,
   "metadata": {},
   "outputs": [],
   "source": [
    "logging.info('Hi this is KP')"
   ]
  },
  {
   "cell_type": "code",
   "execution_count": null,
   "metadata": {},
   "outputs": [],
   "source": []
  }
 ],
 "metadata": {
  "kernelspec": {
   "display_name": "venv_mlops",
   "language": "python",
   "name": "python3"
  },
  "language_info": {
   "codemirror_mode": {
    "name": "ipython",
    "version": 3
   },
   "file_extension": ".py",
   "mimetype": "text/x-python",
   "name": "python",
   "nbconvert_exporter": "python",
   "pygments_lexer": "ipython3",
   "version": "3.12.5"
  }
 },
 "nbformat": 4,
 "nbformat_minor": 2
}
