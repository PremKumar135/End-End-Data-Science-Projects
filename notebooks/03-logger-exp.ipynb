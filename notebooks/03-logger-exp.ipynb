{
 "cells": [
  {
   "cell_type": "code",
   "execution_count": 2,
   "metadata": {},
   "outputs": [
    {
     "name": "stdout",
     "output_type": "stream",
     "text": [
      "08_11_2024_02_46_17.log\n"
     ]
    }
   ],
   "source": [
    "import logging\n",
    "import os\n",
    "from from_root import from_root\n",
    "from datetime import datetime\n",
    "\n",
    "print(f\"{datetime.now().strftime('%m_%d_%Y_%H_%M_%S')}.log\")"
   ]
  },
  {
   "cell_type": "code",
   "execution_count": 3,
   "metadata": {},
   "outputs": [
    {
     "ename": "FileNotFoundError",
     "evalue": "No possible anchors found (.git, .project-root), cannot detect root folder. Initialize a git repository or create an empty \".project-root\" file in the project root",
     "output_type": "error",
     "traceback": [
      "\u001b[0;31m---------------------------------------------------------------------------\u001b[0m",
      "\u001b[0;31mFileNotFoundError\u001b[0m                         Traceback (most recent call last)",
      "Cell \u001b[0;32mIn[3], line 1\u001b[0m\n\u001b[0;32m----> 1\u001b[0m \u001b[43mfrom_root\u001b[49m\u001b[43m(\u001b[49m\u001b[43m)\u001b[49m\n",
      "File \u001b[0;32m~/miniforge3/envs/venv_mlops/lib/python3.12/site-packages/from_root/root.py:24\u001b[0m, in \u001b[0;36mfrom_root\u001b[0;34m(mkdirs, *args)\u001b[0m\n\u001b[1;32m      9\u001b[0m \u001b[38;5;28;01mdef\u001b[39;00m \u001b[38;5;21mfrom_root\u001b[39m(\n\u001b[1;32m     10\u001b[0m         \u001b[38;5;241m*\u001b[39margs: \u001b[38;5;28mstr\u001b[39m,\n\u001b[1;32m     11\u001b[0m         mkdirs: \u001b[38;5;28mbool\u001b[39m \u001b[38;5;241m=\u001b[39m \u001b[38;5;28;01mFalse\u001b[39;00m,\n\u001b[1;32m     12\u001b[0m ) \u001b[38;5;241m-\u001b[39m\u001b[38;5;241m>\u001b[39m Path:\n\u001b[1;32m     13\u001b[0m \u001b[38;5;250m    \u001b[39m\u001b[38;5;124;03m\"\"\"\u001b[39;00m\n\u001b[1;32m     14\u001b[0m \u001b[38;5;124;03m    :param args:\u001b[39;00m\n\u001b[1;32m     15\u001b[0m \u001b[38;5;124;03m    >>> from_root('dir1', 'dir2')\u001b[39;00m\n\u001b[0;32m   (...)\u001b[0m\n\u001b[1;32m     18\u001b[0m \u001b[38;5;124;03m    :return: `pathlib.Path`\u001b[39;00m\n\u001b[1;32m     19\u001b[0m \u001b[38;5;124;03m    \"\"\"\u001b[39;00m\n\u001b[1;32m     21\u001b[0m     \u001b[38;5;28;01mreturn\u001b[39;00m from_base(\n\u001b[1;32m     22\u001b[0m         args,\n\u001b[1;32m     23\u001b[0m         mkdirs\u001b[38;5;241m=\u001b[39mmkdirs,\n\u001b[0;32m---> 24\u001b[0m         base_path\u001b[38;5;241m=\u001b[39m\u001b[43mget_project_root\u001b[49m\u001b[43m(\u001b[49m\u001b[43m)\u001b[49m,\n\u001b[1;32m     25\u001b[0m     )\n",
      "File \u001b[0;32m~/miniforge3/envs/venv_mlops/lib/python3.12/site-packages/from_root/get_project_root.py:23\u001b[0m, in \u001b[0;36mget_project_root\u001b[0;34m()\u001b[0m\n\u001b[1;32m     20\u001b[0m         path \u001b[38;5;241m=\u001b[39m path\u001b[38;5;241m.\u001b[39mparent\n\u001b[1;32m     22\u001b[0m \u001b[38;5;66;03m# TODO(ekon): add warning about relying on \".git\"\u001b[39;00m\n\u001b[0;32m---> 23\u001b[0m \u001b[38;5;28;01mraise\u001b[39;00m \u001b[38;5;167;01mFileNotFoundError\u001b[39;00m(\n\u001b[1;32m     24\u001b[0m     \u001b[38;5;124mf\u001b[39m\u001b[38;5;124m'\u001b[39m\u001b[38;5;124mNo possible anchors found (\u001b[39m\u001b[38;5;132;01m{\u001b[39;00m\u001b[38;5;124m\"\u001b[39m\u001b[38;5;124m, \u001b[39m\u001b[38;5;124m\"\u001b[39m\u001b[38;5;241m.\u001b[39mjoin(ANCHORS)\u001b[38;5;132;01m}\u001b[39;00m\u001b[38;5;124m), cannot detect root folder. \u001b[39m\u001b[38;5;124m'\u001b[39m\n\u001b[1;32m     25\u001b[0m     \u001b[38;5;124m'\u001b[39m\u001b[38;5;124mInitialize a git repository or create an empty \u001b[39m\u001b[38;5;124m\"\u001b[39m\u001b[38;5;124m.project-root\u001b[39m\u001b[38;5;124m\"\u001b[39m\u001b[38;5;124m file \u001b[39m\u001b[38;5;124m'\u001b[39m\n\u001b[1;32m     26\u001b[0m     \u001b[38;5;124m'\u001b[39m\u001b[38;5;124min the project root\u001b[39m\u001b[38;5;124m'\u001b[39m\n\u001b[1;32m     27\u001b[0m )\n",
      "\u001b[0;31mFileNotFoundError\u001b[0m: No possible anchors found (.git, .project-root), cannot detect root folder. Initialize a git repository or create an empty \".project-root\" file in the project root"
     ]
    }
   ],
   "source": [
    "from_root()"
   ]
  },
  {
   "cell_type": "code",
   "execution_count": null,
   "metadata": {},
   "outputs": [],
   "source": [
    "log_dir = 'logs'\n",
    "logs_path = os.path.join(from_root(), log_dir, )"
   ]
  }
 ],
 "metadata": {
  "kernelspec": {
   "display_name": "venv_mlops",
   "language": "python",
   "name": "python3"
  },
  "language_info": {
   "codemirror_mode": {
    "name": "ipython",
    "version": 3
   },
   "file_extension": ".py",
   "mimetype": "text/x-python",
   "name": "python",
   "nbconvert_exporter": "python",
   "pygments_lexer": "ipython3",
   "version": "3.12.5"
  }
 },
 "nbformat": 4,
 "nbformat_minor": 2
}
